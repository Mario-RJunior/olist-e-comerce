{
  "nbformat": 4,
  "nbformat_minor": 0,
  "metadata": {
    "colab": {
      "name": "reviews_analysis.ipynb",
      "provenance": [],
      "authorship_tag": "ABX9TyPHpxj/Shwb/7PXgulnXfP3",
      "include_colab_link": true
    },
    "kernelspec": {
      "name": "python3",
      "display_name": "Python 3"
    }
  },
  "cells": [
    {
      "cell_type": "markdown",
      "metadata": {
        "id": "view-in-github",
        "colab_type": "text"
      },
      "source": [
        "<a href=\"https://colab.research.google.com/github/Mario-RJunior/olist-e-commerce/blob/master/reviews_analysis.ipynb\" target=\"_parent\"><img src=\"https://colab.research.google.com/assets/colab-badge.svg\" alt=\"Open In Colab\"/></a>"
      ]
    },
    {
      "cell_type": "markdown",
      "metadata": {
        "id": "WlpbjH2QGPub"
      },
      "source": [
        "# Análise dos Reviews"
      ]
    },
    {
      "cell_type": "markdown",
      "metadata": {
        "id": "_lMhEg51qJ8o"
      },
      "source": [
        "## 1) Introdução\n",
        "Uma importante abordagem ao trabalhar com análise de dados de uma base comercial é justamente o feedback dos consumidores no que diz respeito à qualidade dos produtos, ao atendimento, etc. e a neste sentido é de suma importância ter uma base de dados que tenham essas informações, uma vez que elas ajudam a melhorar a qualidade do serviço.\n",
        "\n",
        "Aqui não é diferente e neste notebook trabalharemos com uma base contendo, entre outros, os reviews dos clientes acerca dos produtos e uma nota atribuida a ele. Assim, utilizaremos alguns algorítmos de Processamento de Linguagem Natural (em inglês NPL) para fazer um classificador de sentimento, ou seja, determinar se um determinado review é positivo ou negativo.\n",
        "\n",
        "Portanto, a partir da próxima seção iremos dar início a esta etapa do estudo."
      ]
    },
    {
      "cell_type": "markdown",
      "metadata": {
        "id": "cFxH5EjbqWnW"
      },
      "source": [
        "## 2) Carregando e explorando os dados"
      ]
    },
    {
      "cell_type": "code",
      "metadata": {
        "id": "Z3netJSLEapB"
      },
      "source": [
        "# Importando bibliotecas\n",
        "import pandas as pd\n",
        "import numpy as np\n",
        "import matplotlib.pyplot as plt\n",
        "import seaborn as sns"
      ],
      "execution_count": 1,
      "outputs": []
    },
    {
      "cell_type": "code",
      "metadata": {
        "id": "PLo1xxCsEdz_"
      },
      "source": [
        "# Carregando a base de dados\n",
        "link = 'https://raw.githubusercontent.com/Mario-RJunior/olist-e-commerce/master/datasets/olist_order_reviews_dataset.csv'\n",
        "reviews = pd.read_csv(link)"
      ],
      "execution_count": 2,
      "outputs": []
    },
    {
      "cell_type": "code",
      "metadata": {
        "id": "666mYkQYEqSJ",
        "outputId": "394a5f26-6c07-4919-cf47-4a2b61f48181",
        "colab": {
          "base_uri": "https://localhost:8080/",
          "height": 258
        }
      },
      "source": [
        "# Visualizando o cabeçalho\n",
        "reviews.head()"
      ],
      "execution_count": 3,
      "outputs": [
        {
          "output_type": "execute_result",
          "data": {
            "text/html": [
              "<div>\n",
              "<style scoped>\n",
              "    .dataframe tbody tr th:only-of-type {\n",
              "        vertical-align: middle;\n",
              "    }\n",
              "\n",
              "    .dataframe tbody tr th {\n",
              "        vertical-align: top;\n",
              "    }\n",
              "\n",
              "    .dataframe thead th {\n",
              "        text-align: right;\n",
              "    }\n",
              "</style>\n",
              "<table border=\"1\" class=\"dataframe\">\n",
              "  <thead>\n",
              "    <tr style=\"text-align: right;\">\n",
              "      <th></th>\n",
              "      <th>review_id</th>\n",
              "      <th>order_id</th>\n",
              "      <th>review_score</th>\n",
              "      <th>review_comment_title</th>\n",
              "      <th>review_comment_message</th>\n",
              "      <th>review_creation_date</th>\n",
              "      <th>review_answer_timestamp</th>\n",
              "    </tr>\n",
              "  </thead>\n",
              "  <tbody>\n",
              "    <tr>\n",
              "      <th>0</th>\n",
              "      <td>7bc2406110b926393aa56f80a40eba40</td>\n",
              "      <td>73fc7af87114b39712e6da79b0a377eb</td>\n",
              "      <td>4</td>\n",
              "      <td>NaN</td>\n",
              "      <td>NaN</td>\n",
              "      <td>2018-01-18 00:00:00</td>\n",
              "      <td>2018-01-18 21:46:59</td>\n",
              "    </tr>\n",
              "    <tr>\n",
              "      <th>1</th>\n",
              "      <td>80e641a11e56f04c1ad469d5645fdfde</td>\n",
              "      <td>a548910a1c6147796b98fdf73dbeba33</td>\n",
              "      <td>5</td>\n",
              "      <td>NaN</td>\n",
              "      <td>NaN</td>\n",
              "      <td>2018-03-10 00:00:00</td>\n",
              "      <td>2018-03-11 03:05:13</td>\n",
              "    </tr>\n",
              "    <tr>\n",
              "      <th>2</th>\n",
              "      <td>228ce5500dc1d8e020d8d1322874b6f0</td>\n",
              "      <td>f9e4b658b201a9f2ecdecbb34bed034b</td>\n",
              "      <td>5</td>\n",
              "      <td>NaN</td>\n",
              "      <td>NaN</td>\n",
              "      <td>2018-02-17 00:00:00</td>\n",
              "      <td>2018-02-18 14:36:24</td>\n",
              "    </tr>\n",
              "    <tr>\n",
              "      <th>3</th>\n",
              "      <td>e64fb393e7b32834bb789ff8bb30750e</td>\n",
              "      <td>658677c97b385a9be170737859d3511b</td>\n",
              "      <td>5</td>\n",
              "      <td>NaN</td>\n",
              "      <td>Recebi bem antes do prazo estipulado.</td>\n",
              "      <td>2017-04-21 00:00:00</td>\n",
              "      <td>2017-04-21 22:02:06</td>\n",
              "    </tr>\n",
              "    <tr>\n",
              "      <th>4</th>\n",
              "      <td>f7c4243c7fe1938f181bec41a392bdeb</td>\n",
              "      <td>8e6bfb81e283fa7e4f11123a3fb894f1</td>\n",
              "      <td>5</td>\n",
              "      <td>NaN</td>\n",
              "      <td>Parabéns lojas lannister adorei comprar pela I...</td>\n",
              "      <td>2018-03-01 00:00:00</td>\n",
              "      <td>2018-03-02 10:26:53</td>\n",
              "    </tr>\n",
              "  </tbody>\n",
              "</table>\n",
              "</div>"
            ],
            "text/plain": [
              "                          review_id  ... review_answer_timestamp\n",
              "0  7bc2406110b926393aa56f80a40eba40  ...     2018-01-18 21:46:59\n",
              "1  80e641a11e56f04c1ad469d5645fdfde  ...     2018-03-11 03:05:13\n",
              "2  228ce5500dc1d8e020d8d1322874b6f0  ...     2018-02-18 14:36:24\n",
              "3  e64fb393e7b32834bb789ff8bb30750e  ...     2017-04-21 22:02:06\n",
              "4  f7c4243c7fe1938f181bec41a392bdeb  ...     2018-03-02 10:26:53\n",
              "\n",
              "[5 rows x 7 columns]"
            ]
          },
          "metadata": {
            "tags": []
          },
          "execution_count": 3
        }
      ]
    },
    {
      "cell_type": "code",
      "metadata": {
        "id": "Pm93rcEvE0zy",
        "outputId": "bad0ccb0-4b90-4998-9b91-8c15938b1245",
        "colab": {
          "base_uri": "https://localhost:8080/"
        }
      },
      "source": [
        "# Verificando o shape do dataframe\n",
        "reviews.shape"
      ],
      "execution_count": 4,
      "outputs": [
        {
          "output_type": "execute_result",
          "data": {
            "text/plain": [
              "(100000, 7)"
            ]
          },
          "metadata": {
            "tags": []
          },
          "execution_count": 4
        }
      ]
    },
    {
      "cell_type": "code",
      "metadata": {
        "id": "h1hXTS9FHqlT",
        "outputId": "12de881e-78e8-443d-c603-a146651b3304",
        "colab": {
          "base_uri": "https://localhost:8080/"
        }
      },
      "source": [
        "# Retornando informações sobre o dataframe\n",
        "reviews.info()"
      ],
      "execution_count": 5,
      "outputs": [
        {
          "output_type": "stream",
          "text": [
            "<class 'pandas.core.frame.DataFrame'>\n",
            "RangeIndex: 100000 entries, 0 to 99999\n",
            "Data columns (total 7 columns):\n",
            " #   Column                   Non-Null Count   Dtype \n",
            "---  ------                   --------------   ----- \n",
            " 0   review_id                100000 non-null  object\n",
            " 1   order_id                 100000 non-null  object\n",
            " 2   review_score             100000 non-null  int64 \n",
            " 3   review_comment_title     11715 non-null   object\n",
            " 4   review_comment_message   41753 non-null   object\n",
            " 5   review_creation_date     100000 non-null  object\n",
            " 6   review_answer_timestamp  100000 non-null  object\n",
            "dtypes: int64(1), object(6)\n",
            "memory usage: 5.3+ MB\n"
          ],
          "name": "stdout"
        }
      ]
    },
    {
      "cell_type": "code",
      "metadata": {
        "id": "Xm3ktbyOIEsK",
        "outputId": "3c65442b-6874-4c33-c7c3-b8788aa96c56",
        "colab": {
          "base_uri": "https://localhost:8080/",
          "height": 297
        }
      },
      "source": [
        "# Retornando algumas estatísticas\n",
        "reviews.describe()"
      ],
      "execution_count": 6,
      "outputs": [
        {
          "output_type": "execute_result",
          "data": {
            "text/html": [
              "<div>\n",
              "<style scoped>\n",
              "    .dataframe tbody tr th:only-of-type {\n",
              "        vertical-align: middle;\n",
              "    }\n",
              "\n",
              "    .dataframe tbody tr th {\n",
              "        vertical-align: top;\n",
              "    }\n",
              "\n",
              "    .dataframe thead th {\n",
              "        text-align: right;\n",
              "    }\n",
              "</style>\n",
              "<table border=\"1\" class=\"dataframe\">\n",
              "  <thead>\n",
              "    <tr style=\"text-align: right;\">\n",
              "      <th></th>\n",
              "      <th>review_score</th>\n",
              "    </tr>\n",
              "  </thead>\n",
              "  <tbody>\n",
              "    <tr>\n",
              "      <th>count</th>\n",
              "      <td>100000.000000</td>\n",
              "    </tr>\n",
              "    <tr>\n",
              "      <th>mean</th>\n",
              "      <td>4.070890</td>\n",
              "    </tr>\n",
              "    <tr>\n",
              "      <th>std</th>\n",
              "      <td>1.359663</td>\n",
              "    </tr>\n",
              "    <tr>\n",
              "      <th>min</th>\n",
              "      <td>1.000000</td>\n",
              "    </tr>\n",
              "    <tr>\n",
              "      <th>25%</th>\n",
              "      <td>4.000000</td>\n",
              "    </tr>\n",
              "    <tr>\n",
              "      <th>50%</th>\n",
              "      <td>5.000000</td>\n",
              "    </tr>\n",
              "    <tr>\n",
              "      <th>75%</th>\n",
              "      <td>5.000000</td>\n",
              "    </tr>\n",
              "    <tr>\n",
              "      <th>max</th>\n",
              "      <td>5.000000</td>\n",
              "    </tr>\n",
              "  </tbody>\n",
              "</table>\n",
              "</div>"
            ],
            "text/plain": [
              "        review_score\n",
              "count  100000.000000\n",
              "mean        4.070890\n",
              "std         1.359663\n",
              "min         1.000000\n",
              "25%         4.000000\n",
              "50%         5.000000\n",
              "75%         5.000000\n",
              "max         5.000000"
            ]
          },
          "metadata": {
            "tags": []
          },
          "execution_count": 6
        }
      ]
    },
    {
      "cell_type": "code",
      "metadata": {
        "id": "-dnuBWRlEsyT",
        "outputId": "fd45e58b-8ca6-4a07-ec1e-682f926bab29",
        "colab": {
          "base_uri": "https://localhost:8080/"
        }
      },
      "source": [
        "# Verificando valores faltantes\n",
        "reviews.isna().sum()"
      ],
      "execution_count": 7,
      "outputs": [
        {
          "output_type": "execute_result",
          "data": {
            "text/plain": [
              "review_id                      0\n",
              "order_id                       0\n",
              "review_score                   0\n",
              "review_comment_title       88285\n",
              "review_comment_message     58247\n",
              "review_creation_date           0\n",
              "review_answer_timestamp        0\n",
              "dtype: int64"
            ]
          },
          "metadata": {
            "tags": []
          },
          "execution_count": 7
        }
      ]
    },
    {
      "cell_type": "code",
      "metadata": {
        "id": "t4JQ-h87Usfx",
        "outputId": "6d76aef5-fa66-4d22-a52e-e7591d9cdebd",
        "colab": {
          "base_uri": "https://localhost:8080/",
          "height": 394
        }
      },
      "source": [
        "# Visualizando valores faltantes com heatmap\n",
        "sns.heatmap(data=reviews.isnull());"
      ],
      "execution_count": 8,
      "outputs": [
        {
          "output_type": "display_data",
          "data": {
            "image/png": "[encoded data removed]",
            "text/plain": [
              "<Figure size 432x288 with 2 Axes>"
            ]
          },
          "metadata": {
            "tags": [],
            "needs_background": "light"
          }
        }
      ]
    },
    {
      "cell_type": "markdown",
      "metadata": {
        "id": "50X8oqZoU8SA"
      },
      "source": [
        "Confirmamos que há uma grande quantidade de valores faltantes."
      ]
    },
    {
      "cell_type": "code",
      "metadata": {
        "id": "v7L1jkb4EyQ7",
        "outputId": "dc010b6d-d7d4-4b59-831a-e0a23033a580",
        "colab": {
          "base_uri": "https://localhost:8080/"
        }
      },
      "source": [
        "# Visualizando alguns comentários\n",
        "reviews['review_comment_message']"
      ],
      "execution_count": 9,
      "outputs": [
        {
          "output_type": "execute_result",
          "data": {
            "text/plain": [
              "0                                                      NaN\n",
              "1                                                      NaN\n",
              "2                                                      NaN\n",
              "3                    Recebi bem antes do prazo estipulado.\n",
              "4        Parabéns lojas lannister adorei comprar pela I...\n",
              "                               ...                        \n",
              "99995                                                  NaN\n",
              "99996    Excelente mochila, entrega super rápida. Super...\n",
              "99997                                                  NaN\n",
              "99998    Solicitei a compra de uma capa de retrovisor c...\n",
              "99999    meu produto chegou e ja tenho que devolver, po...\n",
              "Name: review_comment_message, Length: 100000, dtype: object"
            ]
          },
          "metadata": {
            "tags": []
          },
          "execution_count": 9
        }
      ]
    },
    {
      "cell_type": "code",
      "metadata": {
        "id": "q3jabKaEFG4k",
        "outputId": "cc3cd2c8-a734-4c07-d7de-aa152356b5ec",
        "colab": {
          "base_uri": "https://localhost:8080/"
        }
      },
      "source": [
        "# Visualizando alguns títulos dos comentários\n",
        "reviews['review_comment_title'].unique()"
      ],
      "execution_count": 10,
      "outputs": [
        {
          "output_type": "execute_result",
          "data": {
            "text/plain": [
              "array([nan, 'recomendo', 'Super recomendo', ...,\n",
              "       'Não foi entregue o pedido', 'OTIMA EMBALAGEM', 'Foto enganosa '],\n",
              "      dtype=object)"
            ]
          },
          "metadata": {
            "tags": []
          },
          "execution_count": 10
        }
      ]
    },
    {
      "cell_type": "code",
      "metadata": {
        "id": "Sg-ZX_ESGxq7",
        "outputId": "10c6b2dc-5d38-488e-cd2a-e9f85bd7c9ad",
        "colab": {
          "base_uri": "https://localhost:8080/"
        }
      },
      "source": [
        "# Número de títulos não únicos\n",
        "reviews['review_comment_title'].nunique()"
      ],
      "execution_count": 11,
      "outputs": [
        {
          "output_type": "execute_result",
          "data": {
            "text/plain": [
              "4600"
            ]
          },
          "metadata": {
            "tags": []
          },
          "execution_count": 11
        }
      ]
    },
    {
      "cell_type": "code",
      "metadata": {
        "id": "yZgJyZnDFQVB",
        "outputId": "1ec02b5f-dc23-4214-dfad-2d65a8da084c",
        "colab": {
          "base_uri": "https://localhost:8080/"
        }
      },
      "source": [
        "# Contagem dos scores\n",
        "reviews['review_score'].value_counts()"
      ],
      "execution_count": 12,
      "outputs": [
        {
          "output_type": "execute_result",
          "data": {
            "text/plain": [
              "5    57420\n",
              "4    19200\n",
              "1    11858\n",
              "3     8287\n",
              "2     3235\n",
              "Name: review_score, dtype: int64"
            ]
          },
          "metadata": {
            "tags": []
          },
          "execution_count": 12
        }
      ]
    },
    {
      "cell_type": "markdown",
      "metadata": {
        "id": "IKpGlZJYJd8j"
      },
      "source": [
        "Podemos ainda fazer um histograma para verificar a ocorrência dos scores."
      ]
    },
    {
      "cell_type": "code",
      "metadata": {
        "id": "MkiyyhXgHg2b",
        "outputId": "5b65233c-6d5d-4b5f-de54-35f27282fc5a",
        "colab": {
          "base_uri": "https://localhost:8080/",
          "height": 268
        }
      },
      "source": [
        "# # Plotando histograma\n",
        "reviews.plot(kind='hist', color='r');"
      ],
      "execution_count": 20,
      "outputs": [
        {
          "output_type": "display_data",
          "data": {
            "image/png": "[encoded data removed]",
            "text/plain": [
              "<Figure size 432x288 with 1 Axes>"
            ]
          },
          "metadata": {
            "tags": [],
            "needs_background": "light"
          }
        }
      ]
    },
    {
      "cell_type": "markdown",
      "metadata": {
        "id": "GQiUbZxoL8IZ"
      },
      "source": [
        "### Adicionando coluna para classificação"
      ]
    },
    {
      "cell_type": "markdown",
      "metadata": {
        "id": "M0t7GdnUMC2T"
      },
      "source": [
        "No dataframe reviews temos a coluna \"review_score\" que representa as notas (de 1 a 5) para os serviços oferecidos. Neste caso, como queremos criar um classificador binário para os comentários (positivos e negativos) devemos então gerar esta classificação baseado no score dado para cada comentário. Assim, tomaremos o seguinte critério:\n",
        "\n",
        "- scores 1, 2 e 3: comentário negativo = 0;\n",
        "- scores 4 e 5: comentário positivo = 1.\n",
        "\n",
        "Desta forma, adicionaremos a coluna \"feedback\" com a respectiva classificação para cada comentário."
      ]
    },
    {
      "cell_type": "code",
      "metadata": {
        "id": "q0_LbYjbLlqQ"
      },
      "source": [
        "# Adicionando a coluna \"feedback\"\n",
        "reviews['feedback'] = reviews['review_score'].apply(lambda x: 1 if x >= 4 else 0)"
      ],
      "execution_count": 24,
      "outputs": []
    },
    {
      "cell_type": "code",
      "metadata": {
        "id": "xGpsIedxOD_3",
        "outputId": "3c1c11fa-bbcc-4d1b-8317-6ab0007e9658",
        "colab": {
          "base_uri": "https://localhost:8080/",
          "height": 524
        }
      },
      "source": [
        "# Verificando o dataframe com a nova coluna\n",
        "reviews"
      ],
      "execution_count": 25,
      "outputs": [
        {
          "output_type": "execute_result",
          "data": {
            "text/html": [
              "<div>\n",
              "<style scoped>\n",
              "    .dataframe tbody tr th:only-of-type {\n",
              "        vertical-align: middle;\n",
              "    }\n",
              "\n",
              "    .dataframe tbody tr th {\n",
              "        vertical-align: top;\n",
              "    }\n",
              "\n",
              "    .dataframe thead th {\n",
              "        text-align: right;\n",
              "    }\n",
              "</style>\n",
              "<table border=\"1\" class=\"dataframe\">\n",
              "  <thead>\n",
              "    <tr style=\"text-align: right;\">\n",
              "      <th></th>\n",
              "      <th>review_id</th>\n",
              "      <th>order_id</th>\n",
              "      <th>review_score</th>\n",
              "      <th>review_comment_title</th>\n",
              "      <th>review_comment_message</th>\n",
              "      <th>review_creation_date</th>\n",
              "      <th>review_answer_timestamp</th>\n",
              "      <th>feedback</th>\n",
              "    </tr>\n",
              "  </thead>\n",
              "  <tbody>\n",
              "    <tr>\n",
              "      <th>0</th>\n",
              "      <td>7bc2406110b926393aa56f80a40eba40</td>\n",
              "      <td>73fc7af87114b39712e6da79b0a377eb</td>\n",
              "      <td>4</td>\n",
              "      <td>NaN</td>\n",
              "      <td>NaN</td>\n",
              "      <td>2018-01-18 00:00:00</td>\n",
              "      <td>2018-01-18 21:46:59</td>\n",
              "      <td>1</td>\n",
              "    </tr>\n",
              "    <tr>\n",
              "      <th>1</th>\n",
              "      <td>80e641a11e56f04c1ad469d5645fdfde</td>\n",
              "      <td>a548910a1c6147796b98fdf73dbeba33</td>\n",
              "      <td>5</td>\n",
              "      <td>NaN</td>\n",
              "      <td>NaN</td>\n",
              "      <td>2018-03-10 00:00:00</td>\n",
              "      <td>2018-03-11 03:05:13</td>\n",
              "      <td>1</td>\n",
              "    </tr>\n",
              "    <tr>\n",
              "      <th>2</th>\n",
              "      <td>228ce5500dc1d8e020d8d1322874b6f0</td>\n",
              "      <td>f9e4b658b201a9f2ecdecbb34bed034b</td>\n",
              "      <td>5</td>\n",
              "      <td>NaN</td>\n",
              "      <td>NaN</td>\n",
              "      <td>2018-02-17 00:00:00</td>\n",
              "      <td>2018-02-18 14:36:24</td>\n",
              "      <td>1</td>\n",
              "    </tr>\n",
              "    <tr>\n",
              "      <th>3</th>\n",
              "      <td>e64fb393e7b32834bb789ff8bb30750e</td>\n",
              "      <td>658677c97b385a9be170737859d3511b</td>\n",
              "      <td>5</td>\n",
              "      <td>NaN</td>\n",
              "      <td>Recebi bem antes do prazo estipulado.</td>\n",
              "      <td>2017-04-21 00:00:00</td>\n",
              "      <td>2017-04-21 22:02:06</td>\n",
              "      <td>1</td>\n",
              "    </tr>\n",
              "    <tr>\n",
              "      <th>4</th>\n",
              "      <td>f7c4243c7fe1938f181bec41a392bdeb</td>\n",
              "      <td>8e6bfb81e283fa7e4f11123a3fb894f1</td>\n",
              "      <td>5</td>\n",
              "      <td>NaN</td>\n",
              "      <td>Parabéns lojas lannister adorei comprar pela I...</td>\n",
              "      <td>2018-03-01 00:00:00</td>\n",
              "      <td>2018-03-02 10:26:53</td>\n",
              "      <td>1</td>\n",
              "    </tr>\n",
              "    <tr>\n",
              "      <th>...</th>\n",
              "      <td>...</td>\n",
              "      <td>...</td>\n",
              "      <td>...</td>\n",
              "      <td>...</td>\n",
              "      <td>...</td>\n",
              "      <td>...</td>\n",
              "      <td>...</td>\n",
              "      <td>...</td>\n",
              "    </tr>\n",
              "    <tr>\n",
              "      <th>99995</th>\n",
              "      <td>f3897127253a9592a73be9bdfdf4ed7a</td>\n",
              "      <td>22ec9f0669f784db00fa86d035cf8602</td>\n",
              "      <td>5</td>\n",
              "      <td>NaN</td>\n",
              "      <td>NaN</td>\n",
              "      <td>2017-12-09 00:00:00</td>\n",
              "      <td>2017-12-11 20:06:42</td>\n",
              "      <td>1</td>\n",
              "    </tr>\n",
              "    <tr>\n",
              "      <th>99996</th>\n",
              "      <td>b3de70c89b1510c4cd3d0649fd302472</td>\n",
              "      <td>55d4004744368f5571d1f590031933e4</td>\n",
              "      <td>5</td>\n",
              "      <td>NaN</td>\n",
              "      <td>Excelente mochila, entrega super rápida. Super...</td>\n",
              "      <td>2018-03-22 00:00:00</td>\n",
              "      <td>2018-03-23 09:10:43</td>\n",
              "      <td>1</td>\n",
              "    </tr>\n",
              "    <tr>\n",
              "      <th>99997</th>\n",
              "      <td>1adeb9d84d72fe4e337617733eb85149</td>\n",
              "      <td>7725825d039fc1f0ceb7635e3f7d9206</td>\n",
              "      <td>4</td>\n",
              "      <td>NaN</td>\n",
              "      <td>NaN</td>\n",
              "      <td>2018-07-01 00:00:00</td>\n",
              "      <td>2018-07-02 12:59:13</td>\n",
              "      <td>1</td>\n",
              "    </tr>\n",
              "    <tr>\n",
              "      <th>99998</th>\n",
              "      <td>be360f18f5df1e0541061c87021e6d93</td>\n",
              "      <td>f8bd3f2000c28c5342fedeb5e50f2e75</td>\n",
              "      <td>1</td>\n",
              "      <td>NaN</td>\n",
              "      <td>Solicitei a compra de uma capa de retrovisor c...</td>\n",
              "      <td>2017-12-15 00:00:00</td>\n",
              "      <td>2017-12-16 01:29:43</td>\n",
              "      <td>0</td>\n",
              "    </tr>\n",
              "    <tr>\n",
              "      <th>99999</th>\n",
              "      <td>efe49f1d6f951dd88b51e6ccd4cc548f</td>\n",
              "      <td>90531360ecb1eec2a1fbb265a0db0508</td>\n",
              "      <td>1</td>\n",
              "      <td>NaN</td>\n",
              "      <td>meu produto chegou e ja tenho que devolver, po...</td>\n",
              "      <td>2017-07-03 00:00:00</td>\n",
              "      <td>2017-07-03 21:01:49</td>\n",
              "      <td>0</td>\n",
              "    </tr>\n",
              "  </tbody>\n",
              "</table>\n",
              "<p>100000 rows × 8 columns</p>\n",
              "</div>"
            ],
            "text/plain": [
              "                              review_id  ... feedback\n",
              "0      7bc2406110b926393aa56f80a40eba40  ...        1\n",
              "1      80e641a11e56f04c1ad469d5645fdfde  ...        1\n",
              "2      228ce5500dc1d8e020d8d1322874b6f0  ...        1\n",
              "3      e64fb393e7b32834bb789ff8bb30750e  ...        1\n",
              "4      f7c4243c7fe1938f181bec41a392bdeb  ...        1\n",
              "...                                 ...  ...      ...\n",
              "99995  f3897127253a9592a73be9bdfdf4ed7a  ...        1\n",
              "99996  b3de70c89b1510c4cd3d0649fd302472  ...        1\n",
              "99997  1adeb9d84d72fe4e337617733eb85149  ...        1\n",
              "99998  be360f18f5df1e0541061c87021e6d93  ...        0\n",
              "99999  efe49f1d6f951dd88b51e6ccd4cc548f  ...        0\n",
              "\n",
              "[100000 rows x 8 columns]"
            ]
          },
          "metadata": {
            "tags": []
          },
          "execution_count": 25
        }
      ]
    },
    {
      "cell_type": "markdown",
      "metadata": {
        "id": "l6zypRUWR4qt"
      },
      "source": [
        "Agora precisamos eliminar as colunas do dataframe que não serão utilizadas. Logo, deixaremos apenas as colunas \"review_comment_message\" e \"feedback\"."
      ]
    },
    {
      "cell_type": "code",
      "metadata": {
        "id": "eHBnwNU_SMk3",
        "outputId": "42bc1e49-832d-4758-afd6-241d68e4e5f1",
        "colab": {
          "base_uri": "https://localhost:8080/",
          "height": 204
        }
      },
      "source": [
        "# Deletando colunas desnecessárias\n",
        "reviews = reviews.drop(columns=['review_id', 'order_id', 'review_score', \n",
        "                                'review_comment_title', 'review_creation_date',\t\n",
        "                                'review_answer_timestamp'], axis=1)\n",
        "\n",
        "# Visualizando o cabeçalho\n",
        "reviews.head()"
      ],
      "execution_count": 26,
      "outputs": [
        {
          "output_type": "execute_result",
          "data": {
            "text/html": [
              "<div>\n",
              "<style scoped>\n",
              "    .dataframe tbody tr th:only-of-type {\n",
              "        vertical-align: middle;\n",
              "    }\n",
              "\n",
              "    .dataframe tbody tr th {\n",
              "        vertical-align: top;\n",
              "    }\n",
              "\n",
              "    .dataframe thead th {\n",
              "        text-align: right;\n",
              "    }\n",
              "</style>\n",
              "<table border=\"1\" class=\"dataframe\">\n",
              "  <thead>\n",
              "    <tr style=\"text-align: right;\">\n",
              "      <th></th>\n",
              "      <th>review_comment_message</th>\n",
              "      <th>feedback</th>\n",
              "    </tr>\n",
              "  </thead>\n",
              "  <tbody>\n",
              "    <tr>\n",
              "      <th>0</th>\n",
              "      <td>NaN</td>\n",
              "      <td>1</td>\n",
              "    </tr>\n",
              "    <tr>\n",
              "      <th>1</th>\n",
              "      <td>NaN</td>\n",
              "      <td>1</td>\n",
              "    </tr>\n",
              "    <tr>\n",
              "      <th>2</th>\n",
              "      <td>NaN</td>\n",
              "      <td>1</td>\n",
              "    </tr>\n",
              "    <tr>\n",
              "      <th>3</th>\n",
              "      <td>Recebi bem antes do prazo estipulado.</td>\n",
              "      <td>1</td>\n",
              "    </tr>\n",
              "    <tr>\n",
              "      <th>4</th>\n",
              "      <td>Parabéns lojas lannister adorei comprar pela I...</td>\n",
              "      <td>1</td>\n",
              "    </tr>\n",
              "  </tbody>\n",
              "</table>\n",
              "</div>"
            ],
            "text/plain": [
              "                              review_comment_message  feedback\n",
              "0                                                NaN         1\n",
              "1                                                NaN         1\n",
              "2                                                NaN         1\n",
              "3              Recebi bem antes do prazo estipulado.         1\n",
              "4  Parabéns lojas lannister adorei comprar pela I...         1"
            ]
          },
          "metadata": {
            "tags": []
          },
          "execution_count": 26
        }
      ]
    },
    {
      "cell_type": "code",
      "metadata": {
        "id": "1WwhFPjNTESn"
      },
      "source": [
        "# Deletando registros com valores faltantes\n",
        "reviews.dropna(inplace=True)"
      ],
      "execution_count": 28,
      "outputs": []
    },
    {
      "cell_type": "code",
      "metadata": {
        "id": "L0eTaP4hTM9E",
        "outputId": "f9bde19b-7d6e-47c8-d094-41396127af00",
        "colab": {
          "base_uri": "https://localhost:8080/",
          "height": 204
        }
      },
      "source": [
        "# Visualizando o cabeçalho\n",
        "reviews.head()"
      ],
      "execution_count": 29,
      "outputs": [
        {
          "output_type": "execute_result",
          "data": {
            "text/html": [
              "<div>\n",
              "<style scoped>\n",
              "    .dataframe tbody tr th:only-of-type {\n",
              "        vertical-align: middle;\n",
              "    }\n",
              "\n",
              "    .dataframe tbody tr th {\n",
              "        vertical-align: top;\n",
              "    }\n",
              "\n",
              "    .dataframe thead th {\n",
              "        text-align: right;\n",
              "    }\n",
              "</style>\n",
              "<table border=\"1\" class=\"dataframe\">\n",
              "  <thead>\n",
              "    <tr style=\"text-align: right;\">\n",
              "      <th></th>\n",
              "      <th>review_comment_message</th>\n",
              "      <th>feedback</th>\n",
              "    </tr>\n",
              "  </thead>\n",
              "  <tbody>\n",
              "    <tr>\n",
              "      <th>3</th>\n",
              "      <td>Recebi bem antes do prazo estipulado.</td>\n",
              "      <td>1</td>\n",
              "    </tr>\n",
              "    <tr>\n",
              "      <th>4</th>\n",
              "      <td>Parabéns lojas lannister adorei comprar pela I...</td>\n",
              "      <td>1</td>\n",
              "    </tr>\n",
              "    <tr>\n",
              "      <th>9</th>\n",
              "      <td>aparelho eficiente. no site a marca do aparelh...</td>\n",
              "      <td>1</td>\n",
              "    </tr>\n",
              "    <tr>\n",
              "      <th>12</th>\n",
              "      <td>Mas um pouco ,travando...pelo valor ta Boa.\\r\\n</td>\n",
              "      <td>1</td>\n",
              "    </tr>\n",
              "    <tr>\n",
              "      <th>15</th>\n",
              "      <td>Vendedor confiável, produto ok e entrega antes...</td>\n",
              "      <td>1</td>\n",
              "    </tr>\n",
              "  </tbody>\n",
              "</table>\n",
              "</div>"
            ],
            "text/plain": [
              "                               review_comment_message  feedback\n",
              "3               Recebi bem antes do prazo estipulado.         1\n",
              "4   Parabéns lojas lannister adorei comprar pela I...         1\n",
              "9   aparelho eficiente. no site a marca do aparelh...         1\n",
              "12    Mas um pouco ,travando...pelo valor ta Boa.\\r\\n         1\n",
              "15  Vendedor confiável, produto ok e entrega antes...         1"
            ]
          },
          "metadata": {
            "tags": []
          },
          "execution_count": 29
        }
      ]
    },
    {
      "cell_type": "code",
      "metadata": {
        "id": "tULOIDcSTSec",
        "outputId": "9166aa05-6708-4b6b-b443-01711c7c2656",
        "colab": {
          "base_uri": "https://localhost:8080/"
        }
      },
      "source": [
        "# Visualizando o novo shape do dataframe\n",
        "reviews.shape"
      ],
      "execution_count": 30,
      "outputs": [
        {
          "output_type": "execute_result",
          "data": {
            "text/plain": [
              "(41753, 2)"
            ]
          },
          "metadata": {
            "tags": []
          },
          "execution_count": 30
        }
      ]
    }
  ]
}