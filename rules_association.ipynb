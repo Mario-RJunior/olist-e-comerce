{
  "nbformat": 4,
  "nbformat_minor": 0,
  "metadata": {
    "colab": {
      "name": "rules_association.ipynb",
      "provenance": [],
      "authorship_tag": "ABX9TyMtwYPuUL4Duc9KSP2jFtOg",
      "include_colab_link": true
    },
    "kernelspec": {
      "name": "python3",
      "display_name": "Python 3"
    },
    "language_info": {
      "name": "python"
    }
  },
  "cells": [
    {
      "cell_type": "markdown",
      "metadata": {
        "id": "view-in-github",
        "colab_type": "text"
      },
      "source": [
        "<a href=\"https://colab.research.google.com/github/Mario-RJunior/olist-e-commerce/blob/master/rules_association.ipynb\" target=\"_parent\"><img src=\"https://colab.research.google.com/assets/colab-badge.svg\" alt=\"Open In Colab\"/></a>"
      ]
    },
    {
      "cell_type": "markdown",
      "source": [
        "# Carregando as bibliotecas\n",
        "\n",
        "Antes de carregar as bibliotecas, iremos precisar instalar uma delas chamada *apyori*. Como nosso objetivo é estabelecer uma coneção entre os produtos dos respectivos departamentos que são comprados em conjunto, utilizaremos o conceito *apriori* para esta análise.\n",
        "\n",
        "Portanto, iremos instalar esta biblioteca a seguir."
      ],
      "metadata": {
        "id": "xRmF9G4nbz7Q"
      }
    },
    {
      "cell_type": "code",
      "execution_count": 1,
      "metadata": {
        "id": "oj9H2lpE0bSh",
        "outputId": "c7d2e4e4-30f2-4c0d-cf9f-a31274b2266d",
        "colab": {
          "base_uri": "https://localhost:8080/"
        }
      },
      "outputs": [
        {
          "output_type": "stream",
          "name": "stdout",
          "text": [
            "Collecting apyori\n",
            "  Downloading apyori-1.1.2.tar.gz (8.6 kB)\n",
            "Building wheels for collected packages: apyori\n",
            "  Building wheel for apyori (setup.py) ... \u001b[?25l\u001b[?25hdone\n",
            "  Created wheel for apyori: filename=apyori-1.1.2-py3-none-any.whl size=5974 sha256=acfc3edee972500e06cde19597c9b96612b2cc4a7ac7e612eb75458ab7feb4ff\n",
            "  Stored in directory: /root/.cache/pip/wheels/cb/f6/e1/57973c631d27efd1a2f375bd6a83b2a616c4021f24aab84080\n",
            "Successfully built apyori\n",
            "Installing collected packages: apyori\n",
            "Successfully installed apyori-1.1.2\n"
          ]
        }
      ],
      "source": [
        "!pip install apyori"
      ]
    },
    {
      "cell_type": "code",
      "source": [
        ""
      ],
      "metadata": {
        "id": "2bVTD6MacWYU"
      },
      "execution_count": null,
      "outputs": []
    }
  ]
}